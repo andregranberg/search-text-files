{
 "cells": [
  {
   "cell_type": "code",
   "execution_count": 49,
   "id": "homeless-olive",
   "metadata": {},
   "outputs": [
    {
     "name": "stdout",
     "output_type": "stream",
     "text": [
      "Search files:this is a test string that won't return anything\n"
     ]
    }
   ],
   "source": [
    "import os\n",
    "import re\n",
    "import zipfile\n",
    "\n",
    "def search_odt_files(search_string, directory):\n",
    "    # Initialize a list to store the matching files\n",
    "    matching_files = []\n",
    "\n",
    "    # Iterate over all the files in the directory\n",
    "    for root, dirs, files in os.walk(directory):\n",
    "        for file in files:\n",
    "            # Check if the file is an .odt file\n",
    "            if file.endswith(\".odt\"):\n",
    "                # Open the .odt file as a zip archive\n",
    "                with zipfile.ZipFile(os.path.join(root, file), \"r\") as zip_archive:\n",
    "                    # Extract the text content of the file\n",
    "                    with zip_archive.open(\"content.xml\") as f:\n",
    "                        # Read the contents of the file\n",
    "                        contents = f.read()\n",
    "                        # Decode the contents from bytes to a string\n",
    "                        contents_str = contents.decode()\n",
    "                        # Use a regular expression to search for the search string\n",
    "                        if re.search(search_string, contents_str, re.IGNORECASE):\n",
    "                            # If the search string is found, add the file to the list of matching files\n",
    "                            matching_files.append(os.path.join(root, file))\n",
    "    \n",
    "    # Return the list of matching files\n",
    "    return matching_files\n",
    "\n",
    "# Get the current working directory\n",
    "directory = os.getcwd()\n",
    "\n",
    "# Example usage\n",
    "search_string = input(\"Search files:\")\n",
    "matching_files = search_odt_files(search_string, directory)\n",
    "#print(matching_files)\n",
    "\n",
    "for x in matching_files:\n",
    "    file = x.split('/home/andrey/Desktop/Analysis/')[1]\n",
    "    print()\n",
    "    from IPython.display import HTML\n",
    "\n",
    "    # Define the string you want to print\n",
    "    string = file.split('.odt')[0]\n",
    "\n",
    "    # Set the font size of the string using the CSS 'font-size' property\n",
    "    html = \"\".join([f\"<span style='font-size: 30px;'>{c}</span>\" for c in string])\n",
    "\n",
    "    # Display the HTML object\n",
    "    display(HTML(html))\n",
    "    print()\n",
    "    \n",
    "    import zipfile\n",
    "    from lxml import etree\n",
    "\n",
    "    # Open the .odt file as a zip archive\n",
    "    with zipfile.ZipFile(file, \"r\") as zip_archive:\n",
    "        # Extract the text content of the file\n",
    "        with zip_archive.open(\"content.xml\") as f:\n",
    "            # Read the contents of the file\n",
    "            contents = f.read()\n",
    "            # Parse the XML content of the file\n",
    "            xml_root = etree.fromstring(contents)\n",
    "\n",
    "    # Find all the text:p elements in the XML content (these represent paragraphs in the document)\n",
    "    paragraphs = xml_root.findall(\".//text:p\", xml_root.nsmap)\n",
    "\n",
    "    # Extract the text content of the paragraphs\n",
    "    for paragraph in paragraphs:\n",
    "        print(paragraph.text)\n",
    "        print()"
   ]
  },
  {
   "cell_type": "code",
   "execution_count": null,
   "id": "norman-holocaust",
   "metadata": {},
   "outputs": [],
   "source": []
  }
 ],
 "metadata": {
  "kernelspec": {
   "display_name": "Python 3",
   "language": "python",
   "name": "python3"
  },
  "language_info": {
   "codemirror_mode": {
    "name": "ipython",
    "version": 3
   },
   "file_extension": ".py",
   "mimetype": "text/x-python",
   "name": "python",
   "nbconvert_exporter": "python",
   "pygments_lexer": "ipython3",
   "version": "3.8.10"
  }
 },
 "nbformat": 4,
 "nbformat_minor": 5
}
